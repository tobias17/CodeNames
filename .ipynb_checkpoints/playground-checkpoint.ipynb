{
 "cells": [
  {
   "cell_type": "code",
   "execution_count": 7,
   "metadata": {},
   "outputs": [],
   "source": [
    "from models.AssociationModels import NaiveModel\n",
    "from time import time\n",
    "import matplotlib.pyplot as plt\n",
    "import re"
   ]
  },
  {
   "cell_type": "code",
   "execution_count": 2,
   "metadata": {},
   "outputs": [
    {
     "name": "stdout",
     "output_type": "stream",
     "text": [
      "model loaded in 21s\n"
     ]
    }
   ],
   "source": [
    "s_time = time()\n",
    "nm = NaiveModel()\n",
    "print(f'model loaded in {int(time()-s_time)}s')"
   ]
  },
  {
   "cell_type": "code",
   "execution_count": 3,
   "metadata": {},
   "outputs": [],
   "source": [
    "# constants\n",
    "veto_dist_perc = 0.75\n",
    "neg_dist_perc = 0.85\n",
    "neut_dist_perc = 0.95"
   ]
  },
  {
   "cell_type": "code",
   "execution_count": 13,
   "metadata": {},
   "outputs": [
    {
     "data": {
      "image/png": "[encoded data removed]",
      "text/plain": [
       "<Figure size 432x288 with 1 Axes>"
      ]
     },
     "metadata": {
      "needs_background": "light"
     },
     "output_type": "display_data"
    }
   ],
   "source": [
    "log = '''[05/07/2021 18:53:41 - BoardDump] >THUMB>>>>>>> -HIMALAYAS--- >PALM>>>>>>>> <<<<<<<<<<<<< >POUND>>>>>>> >SPIKE>>>>>>> <<<<<<<<<<<<< <DICE<<<<<<<< <JET<<<<<<<<< <<<<<<<<<<<<< >MODEL>>>>>>> -SCALE------- *ALPS******** <BELL<<<<<<<< -NUT--------- >LEMON>>>>>>> <POST<<<<<<<< <LION<<<<<<<< <BLOCK<<<<<<< -CIRCLE------ >PILOT>>>>>>> -PLANE------- -HORN-------- -FIGHTER----- >PENGUIN>>>>>\n",
    "[05/07/2021 18:53:42 - AiTop10] 1 -> ('radiator', (1.9993359482316007, ['model', 'pilot']))\n",
    "[05/07/2021 18:53:42 - AiTop10] 2 -> ('neuron', (1.6199046391641914, ['model', 'spike']))\n",
    "[05/07/2021 18:53:42 - AiTop10] 3 -> ('citron', (1.4938459100093524, ['lemon']))\n",
    "[05/07/2021 18:53:42 - AiTop10] 4 -> ('pence', (1.490185155607003, ['pound']))\n",
    "[05/07/2021 18:53:42 - AiTop10] 5 -> ('forecasting', (1.4848959917135094, ['model']))\n",
    "[05/07/2021 18:53:42 - AiTop10] 6 -> ('schema', (1.4266736848896366, ['model']))\n",
    "[05/07/2021 18:53:42 - AiTop10] 7 -> ('computation', (1.3980395889000232, ['model']))\n",
    "[05/07/2021 18:53:42 - AiTop10] 8 -> ('tractor', (1.3172669841498599, ['model', 'pilot']))\n",
    "[05/07/2021 18:53:42 - AiTop10] 9 -> ('revolver', (1.3169522038809176, ['model']))\n",
    "[05/07/2021 18:53:42 - AiTop10] 10 -> ('probabilities', (1.3024241399243064, ['model']))'''\n",
    "\n",
    "s_board, s_log = log.split('\\n', maxsplit=1)\n",
    "\n",
    "board = {}\n",
    "for tagged_word in s_board.split('BoardDump] ')[1].split(' '):\n",
    "    tag = tagged_word[0]\n",
    "    word = tagged_word.replace(tag, '').lower()\n",
    "    board[word] = tag\n",
    "\n",
    "x, y, n = [], [], []\n",
    "for i, line in enumerate(s_log.split('\\n')):\n",
    "    line = re.findall(r\"'([a-z]+)'\", line)\n",
    "    y.append(i)\n",
    "    x.append(1)\n",
    "    n.append(str(line[0]))\n",
    "    for word in line[1:]:\n",
    "        y.append(i)\n",
    "        x.append(nm.similarity(str(line[0]), str(word)))\n",
    "        n.append(str(word))\n",
    "\n",
    "fig, ax = plt.subplots()\n",
    "ax.scatter(x, y)\n",
    "\n",
    "for i, txt in enumerate(n):\n",
    "    ax.annotate(txt, (x[i], y[i]))"
   ]
  }
 ],
 "metadata": {
  "kernelspec": {
   "display_name": "Python 3",
   "language": "python",
   "name": "python3"
  },
  "language_info": {
   "codemirror_mode": {
    "name": "ipython",
    "version": 3
   },
   "file_extension": ".py",
   "mimetype": "text/x-python",
   "name": "python",
   "nbconvert_exporter": "python",
   "pygments_lexer": "ipython3",
   "version": "3.7.10"
  },
  "metadata": {
   "interpreter": {
    "hash": "4da06c21bcead9befe1209fa8ddde2c5812ac344b6f1f2d8d1b269667c3a17b7"
   }
  }
 },
 "nbformat": 4,
 "nbformat_minor": 2
}
